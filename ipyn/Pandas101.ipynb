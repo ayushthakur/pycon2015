{
 "metadata": {
  "name": "",
  "signature": "sha256:f77af0fa1811126dac0126d2337b58895e26d7cd748b6931e169028a4433a1c1"
 },
 "nbformat": 3,
 "nbformat_minor": 0,
 "worksheets": [
  {
   "cells": [
    {
     "cell_type": "code",
     "collapsed": false,
     "input": [
      "In [1]: import pandas as pd\n",
      "\n",
      "In [2]: import numpy as np\n",
      "\n",
      "In [3]: import matplotlib.pyplot as plt"
     ],
     "language": "python",
     "metadata": {},
     "outputs": [],
     "prompt_number": 1
    },
    {
     "cell_type": "code",
     "collapsed": false,
     "input": [
      "print '----------'\n",
      "\n",
      "s = pd.Series([1,3,5,np.nan,6,8])\n",
      "print s\n",
      "\n",
      "print '----------'\n",
      "\n",
      "dates = pd.date_range('20130101',periods=6)\n",
      "df = pd.DataFrame(np.random.randn(6,4),index=dates,columns=list('ABCD'))\n",
      "print df"
     ],
     "language": "python",
     "metadata": {},
     "outputs": [
      {
       "output_type": "stream",
       "stream": "stdout",
       "text": [
        "----------\n",
        "0     1\n",
        "1     3\n",
        "2     5\n",
        "3   NaN\n",
        "4     6\n",
        "5     8\n",
        "dtype: float64\n",
        "----------\n",
        "                   A         B         C         D\n",
        "2013-01-01 -1.561463  1.494338  0.889977 -1.297540\n",
        "2013-01-02  0.037081  0.363848 -0.451794  0.140778\n",
        "2013-01-03  0.625012 -0.441708 -0.024730  0.883380\n",
        "2013-01-04 -1.913990 -0.350386  0.511952  0.407584\n",
        "2013-01-05  0.835559  0.221817  0.607211 -0.692571\n",
        "2013-01-06 -0.189159  1.121955  1.972059 -1.021049\n"
       ]
      }
     ],
     "prompt_number": 8
    },
    {
     "cell_type": "code",
     "collapsed": false,
     "input": [],
     "language": "python",
     "metadata": {},
     "outputs": []
    }
   ],
   "metadata": {}
  }
 ]
}